{
 "cells": [
  {
   "cell_type": "markdown",
   "id": "53762368",
   "metadata": {},
   "source": [
    "# Minor Project - Classification model to predict whether credit risk is good or bad. "
   ]
  },
  {
   "cell_type": "code",
   "execution_count": 3,
   "id": "4f22f8b3",
   "metadata": {},
   "outputs": [],
   "source": [
    "import numpy as np\n",
    "import pandas as pd\n",
    "import matplotlib.pyplot as plt"
   ]
  },
  {
   "cell_type": "markdown",
   "id": "d00bd35d",
   "metadata": {},
   "source": [
    "### Reading File"
   ]
  },
  {
   "cell_type": "code",
   "execution_count": 4,
   "id": "ec5563b7",
   "metadata": {},
   "outputs": [
    {
     "data": {
      "text/html": [
       "<div>\n",
       "<style scoped>\n",
       "    .dataframe tbody tr th:only-of-type {\n",
       "        vertical-align: middle;\n",
       "    }\n",
       "\n",
       "    .dataframe tbody tr th {\n",
       "        vertical-align: top;\n",
       "    }\n",
       "\n",
       "    .dataframe thead th {\n",
       "        text-align: right;\n",
       "    }\n",
       "</style>\n",
       "<table border=\"1\" class=\"dataframe\">\n",
       "  <thead>\n",
       "    <tr style=\"text-align: right;\">\n",
       "      <th></th>\n",
       "      <th>Unnamed: 0</th>\n",
       "      <th>checking_status</th>\n",
       "      <th>duration</th>\n",
       "      <th>credit_history</th>\n",
       "      <th>purpose</th>\n",
       "      <th>credit_amount</th>\n",
       "      <th>savings_status</th>\n",
       "      <th>employment</th>\n",
       "      <th>installment_commitment</th>\n",
       "      <th>personal_status</th>\n",
       "      <th>...</th>\n",
       "      <th>property_magnitude</th>\n",
       "      <th>age</th>\n",
       "      <th>other_payment_plans</th>\n",
       "      <th>housing</th>\n",
       "      <th>existing_credits</th>\n",
       "      <th>job</th>\n",
       "      <th>num_dependents</th>\n",
       "      <th>own_telephone</th>\n",
       "      <th>foreign_worker</th>\n",
       "      <th>class</th>\n",
       "    </tr>\n",
       "  </thead>\n",
       "  <tbody>\n",
       "    <tr>\n",
       "      <th>0</th>\n",
       "      <td>0</td>\n",
       "      <td>&lt;0</td>\n",
       "      <td>6.0</td>\n",
       "      <td>critical/other existing credit</td>\n",
       "      <td>radio/tv</td>\n",
       "      <td>1169.0</td>\n",
       "      <td>no known savings</td>\n",
       "      <td>&gt;=7</td>\n",
       "      <td>4.0</td>\n",
       "      <td>male single</td>\n",
       "      <td>...</td>\n",
       "      <td>real estate</td>\n",
       "      <td>67.0</td>\n",
       "      <td>none</td>\n",
       "      <td>own</td>\n",
       "      <td>2.0</td>\n",
       "      <td>skilled</td>\n",
       "      <td>1.0</td>\n",
       "      <td>yes</td>\n",
       "      <td>yes</td>\n",
       "      <td>good</td>\n",
       "    </tr>\n",
       "    <tr>\n",
       "      <th>1</th>\n",
       "      <td>1</td>\n",
       "      <td>0&lt;=X&lt;200</td>\n",
       "      <td>48.0</td>\n",
       "      <td>existing paid</td>\n",
       "      <td>radio/tv</td>\n",
       "      <td>5951.0</td>\n",
       "      <td>&lt;100</td>\n",
       "      <td>1&lt;=X&lt;4</td>\n",
       "      <td>2.0</td>\n",
       "      <td>female div/dep/mar</td>\n",
       "      <td>...</td>\n",
       "      <td>real estate</td>\n",
       "      <td>22.0</td>\n",
       "      <td>none</td>\n",
       "      <td>own</td>\n",
       "      <td>1.0</td>\n",
       "      <td>skilled</td>\n",
       "      <td>1.0</td>\n",
       "      <td>none</td>\n",
       "      <td>yes</td>\n",
       "      <td>bad</td>\n",
       "    </tr>\n",
       "    <tr>\n",
       "      <th>2</th>\n",
       "      <td>2</td>\n",
       "      <td>no checking</td>\n",
       "      <td>12.0</td>\n",
       "      <td>critical/other existing credit</td>\n",
       "      <td>education</td>\n",
       "      <td>2096.0</td>\n",
       "      <td>&lt;100</td>\n",
       "      <td>4&lt;=X&lt;7</td>\n",
       "      <td>2.0</td>\n",
       "      <td>male single</td>\n",
       "      <td>...</td>\n",
       "      <td>real estate</td>\n",
       "      <td>49.0</td>\n",
       "      <td>none</td>\n",
       "      <td>own</td>\n",
       "      <td>1.0</td>\n",
       "      <td>unskilled resident</td>\n",
       "      <td>2.0</td>\n",
       "      <td>none</td>\n",
       "      <td>yes</td>\n",
       "      <td>good</td>\n",
       "    </tr>\n",
       "    <tr>\n",
       "      <th>3</th>\n",
       "      <td>3</td>\n",
       "      <td>&lt;0</td>\n",
       "      <td>42.0</td>\n",
       "      <td>existing paid</td>\n",
       "      <td>furniture/equipment</td>\n",
       "      <td>7882.0</td>\n",
       "      <td>&lt;100</td>\n",
       "      <td>4&lt;=X&lt;7</td>\n",
       "      <td>2.0</td>\n",
       "      <td>male single</td>\n",
       "      <td>...</td>\n",
       "      <td>life insurance</td>\n",
       "      <td>45.0</td>\n",
       "      <td>none</td>\n",
       "      <td>for free</td>\n",
       "      <td>1.0</td>\n",
       "      <td>skilled</td>\n",
       "      <td>2.0</td>\n",
       "      <td>none</td>\n",
       "      <td>yes</td>\n",
       "      <td>good</td>\n",
       "    </tr>\n",
       "    <tr>\n",
       "      <th>4</th>\n",
       "      <td>4</td>\n",
       "      <td>&lt;0</td>\n",
       "      <td>24.0</td>\n",
       "      <td>delayed previously</td>\n",
       "      <td>new car</td>\n",
       "      <td>4870.0</td>\n",
       "      <td>&lt;100</td>\n",
       "      <td>1&lt;=X&lt;4</td>\n",
       "      <td>3.0</td>\n",
       "      <td>male single</td>\n",
       "      <td>...</td>\n",
       "      <td>no known property</td>\n",
       "      <td>53.0</td>\n",
       "      <td>none</td>\n",
       "      <td>for free</td>\n",
       "      <td>2.0</td>\n",
       "      <td>skilled</td>\n",
       "      <td>2.0</td>\n",
       "      <td>none</td>\n",
       "      <td>yes</td>\n",
       "      <td>bad</td>\n",
       "    </tr>\n",
       "  </tbody>\n",
       "</table>\n",
       "<p>5 rows × 22 columns</p>\n",
       "</div>"
      ],
      "text/plain": [
       "   Unnamed: 0 checking_status  duration                  credit_history  \\\n",
       "0           0              <0       6.0  critical/other existing credit   \n",
       "1           1        0<=X<200      48.0                   existing paid   \n",
       "2           2     no checking      12.0  critical/other existing credit   \n",
       "3           3              <0      42.0                   existing paid   \n",
       "4           4              <0      24.0              delayed previously   \n",
       "\n",
       "               purpose  credit_amount    savings_status employment  \\\n",
       "0             radio/tv         1169.0  no known savings        >=7   \n",
       "1             radio/tv         5951.0              <100     1<=X<4   \n",
       "2            education         2096.0              <100     4<=X<7   \n",
       "3  furniture/equipment         7882.0              <100     4<=X<7   \n",
       "4              new car         4870.0              <100     1<=X<4   \n",
       "\n",
       "   installment_commitment     personal_status  ... property_magnitude   age  \\\n",
       "0                     4.0         male single  ...        real estate  67.0   \n",
       "1                     2.0  female div/dep/mar  ...        real estate  22.0   \n",
       "2                     2.0         male single  ...        real estate  49.0   \n",
       "3                     2.0         male single  ...     life insurance  45.0   \n",
       "4                     3.0         male single  ...  no known property  53.0   \n",
       "\n",
       "  other_payment_plans   housing existing_credits                 job  \\\n",
       "0                none       own              2.0             skilled   \n",
       "1                none       own              1.0             skilled   \n",
       "2                none       own              1.0  unskilled resident   \n",
       "3                none  for free              1.0             skilled   \n",
       "4                none  for free              2.0             skilled   \n",
       "\n",
       "   num_dependents own_telephone  foreign_worker class  \n",
       "0             1.0           yes             yes  good  \n",
       "1             1.0          none             yes   bad  \n",
       "2             2.0          none             yes  good  \n",
       "3             2.0          none             yes  good  \n",
       "4             2.0          none             yes   bad  \n",
       "\n",
       "[5 rows x 22 columns]"
      ]
     },
     "execution_count": 4,
     "metadata": {},
     "output_type": "execute_result"
    }
   ],
   "source": [
    "df= pd.read_csv('credit_customers (1).csv')\n",
    "df.head()"
   ]
  },
  {
   "cell_type": "markdown",
   "id": "1040ae4e",
   "metadata": {},
   "source": [
    "### Replacing string values with int/float "
   ]
  },
  {
   "cell_type": "code",
   "execution_count": 6,
   "id": "63813788",
   "metadata": {},
   "outputs": [],
   "source": [
    "df['class']=df['class'].replace('good',1)\n",
    "df.to_csv('data.csv', index=False)"
   ]
  },
  {
   "cell_type": "code",
   "execution_count": 7,
   "id": "cf0ac8e5",
   "metadata": {},
   "outputs": [],
   "source": [
    "df['class']=df['class'].replace('bad',0)\n",
    "df.to_csv('data.csv', index=False)"
   ]
  },
  {
   "cell_type": "code",
   "execution_count": 8,
   "id": "9abe8855",
   "metadata": {},
   "outputs": [
    {
     "data": {
      "text/plain": [
       "no checking    394\n",
       "<0             274\n",
       "0<=X<200       269\n",
       ">=200           63\n",
       "Name: checking_status, dtype: int64"
      ]
     },
     "execution_count": 8,
     "metadata": {},
     "output_type": "execute_result"
    }
   ],
   "source": [
    "df['checking_status'].value_counts()"
   ]
  },
  {
   "cell_type": "code",
   "execution_count": 9,
   "id": "17886b04",
   "metadata": {},
   "outputs": [],
   "source": [
    "df['checking_status']=df['checking_status'].replace('no checking',0)\n",
    "df.to_csv('data.csv', index=False)\n",
    "\n",
    "df['checking_status']=df['checking_status'].replace('<0',1)\n",
    "df.to_csv('data.csv', index=False)\n",
    "\n",
    "df['checking_status']=df['checking_status'].replace('0<=X<200',2)\n",
    "df.to_csv('data.csv', index=False)\n",
    "\n",
    "df['checking_status']=df['checking_status'].replace('>=200',3)\n",
    "df.to_csv('data.csv', index=False)"
   ]
  },
  {
   "cell_type": "code",
   "execution_count": 10,
   "id": "d4b452e4",
   "metadata": {},
   "outputs": [
    {
     "data": {
      "text/plain": [
       "existing paid                     530\n",
       "critical/other existing credit    293\n",
       "delayed previously                 88\n",
       "all paid                           49\n",
       "no credits/all paid                40\n",
       "Name: credit_history, dtype: int64"
      ]
     },
     "execution_count": 10,
     "metadata": {},
     "output_type": "execute_result"
    }
   ],
   "source": [
    "df['credit_history'].value_counts()"
   ]
  },
  {
   "cell_type": "code",
   "execution_count": 11,
   "id": "15d05678",
   "metadata": {},
   "outputs": [],
   "source": [
    "df['credit_history']=df['credit_history'].replace('existing paid',0)\n",
    "df.to_csv('data.csv', index=False)\n",
    "\n",
    "df['credit_history']=df['credit_history'].replace('critical/other existing credit',1)\n",
    "df.to_csv('data.csv', index=False)\n",
    "\n",
    "df['credit_history']=df['credit_history'].replace('delayed previously',2)\n",
    "df.to_csv('data.csv', index=False)\n",
    "\n",
    "df['credit_history']=df['credit_history'].replace('all paid',3)\n",
    "df.to_csv('data.csv', index=False)\n",
    "\n",
    "df['credit_history']=df['credit_history'].replace('no credits/all paid',4)\n",
    "df.to_csv('data.csv', index=False)"
   ]
  },
  {
   "cell_type": "code",
   "execution_count": 12,
   "id": "578d4b8c",
   "metadata": {},
   "outputs": [
    {
     "data": {
      "text/plain": [
       "radio/tv               280\n",
       "new car                234\n",
       "furniture/equipment    181\n",
       "used car               103\n",
       "business                97\n",
       "education               50\n",
       "repairs                 22\n",
       "domestic appliance      12\n",
       "other                   12\n",
       "retraining               9\n",
       "Name: purpose, dtype: int64"
      ]
     },
     "execution_count": 12,
     "metadata": {},
     "output_type": "execute_result"
    }
   ],
   "source": [
    "df['purpose'].value_counts()"
   ]
  },
  {
   "cell_type": "code",
   "execution_count": 13,
   "id": "5e7d5162",
   "metadata": {},
   "outputs": [],
   "source": [
    "df['purpose']=df['purpose'].replace('radio/tv',0)\n",
    "df.to_csv('data.csv', index=False)\n",
    "\n",
    "df['purpose']=df['purpose'].replace('new car',1)\n",
    "df.to_csv('data.csv', index=False)\n",
    "\n",
    "df['purpose']=df['purpose'].replace('furniture/equipment',2)\n",
    "df.to_csv('data.csv', index=False)\n",
    "\n",
    "df['purpose']=df['purpose'].replace('used car',3)\n",
    "df.to_csv('data.csv', index=False)\n",
    "\n",
    "df['purpose']=df['purpose'].replace('business',4)\n",
    "df.to_csv('data.csv', index=False)\n",
    "\n",
    "df['purpose']=df['purpose'].replace('education',5)\n",
    "df.to_csv('data.csv', index=False)\n",
    "\n",
    "df['purpose']=df['purpose'].replace('repairs',6)\n",
    "df.to_csv('data.csv', index=False)\n",
    "\n",
    "df['purpose']=df['purpose'].replace('domestic appliance',7)\n",
    "df.to_csv('data.csv', index=False)\n",
    "\n",
    "df['purpose']=df['purpose'].replace('other',8)\n",
    "df.to_csv('data.csv', index=False)\n",
    "\n",
    "df['purpose']=df['purpose'].replace('retraining',9)\n",
    "df.to_csv('data.csv', index=False)"
   ]
  },
  {
   "cell_type": "code",
   "execution_count": 14,
   "id": "fc91d57b",
   "metadata": {},
   "outputs": [
    {
     "data": {
      "text/plain": [
       "<100                603\n",
       "no known savings    183\n",
       "100<=X<500          103\n",
       "500<=X<1000          63\n",
       ">=1000               48\n",
       "Name: savings_status, dtype: int64"
      ]
     },
     "execution_count": 14,
     "metadata": {},
     "output_type": "execute_result"
    }
   ],
   "source": [
    "df['savings_status'].value_counts()"
   ]
  },
  {
   "cell_type": "code",
   "execution_count": 15,
   "id": "19c9fa8e",
   "metadata": {},
   "outputs": [],
   "source": [
    "df['savings_status']=df['savings_status'].replace('<100',0)\n",
    "df.to_csv('data.csv', index=False)\n",
    "\n",
    "df['savings_status']=df['savings_status'].replace('no known savings',1)\n",
    "df.to_csv('data.csv', index=False)\n",
    "\n",
    "df['savings_status']=df['savings_status'].replace('100<=X<500',2)\n",
    "df.to_csv('data.csv', index=False)\n",
    "\n",
    "df['savings_status']=df['savings_status'].replace('500<=X<1000',3)\n",
    "df.to_csv('data.csv', index=False)\n",
    "\n",
    "df['savings_status']=df['savings_status'].replace('>=1000',4)\n",
    "df.to_csv('data.csv', index=False)"
   ]
  },
  {
   "cell_type": "code",
   "execution_count": 16,
   "id": "abada45c",
   "metadata": {},
   "outputs": [
    {
     "data": {
      "text/plain": [
       "1<=X<4        339\n",
       ">=7           253\n",
       "4<=X<7        174\n",
       "<1            172\n",
       "unemployed     62\n",
       "Name: employment, dtype: int64"
      ]
     },
     "execution_count": 16,
     "metadata": {},
     "output_type": "execute_result"
    }
   ],
   "source": [
    "df['employment'].value_counts()"
   ]
  },
  {
   "cell_type": "code",
   "execution_count": 17,
   "id": "1d0917f9",
   "metadata": {},
   "outputs": [],
   "source": [
    "df['employment']=df['employment'].replace('1<=X<4',0)\n",
    "df.to_csv('data.csv', index=False)\n",
    "\n",
    "df['employment']=df['employment'].replace('>=7',1)\n",
    "df.to_csv('data.csv', index=False)\n",
    "\n",
    "df['employment']=df['employment'].replace('4<=X<7',2)\n",
    "df.to_csv('data.csv', index=False)\n",
    "\n",
    "df['employment']=df['employment'].replace('<1',3)\n",
    "df.to_csv('data.csv', index=False)\n",
    "\n",
    "df['employment']=df['employment'].replace('unemployed',4)\n",
    "df.to_csv('data.csv', index=False)"
   ]
  },
  {
   "cell_type": "code",
   "execution_count": 18,
   "id": "355e8999",
   "metadata": {},
   "outputs": [
    {
     "data": {
      "text/plain": [
       "male single           548\n",
       "female div/dep/mar    310\n",
       "male mar/wid           92\n",
       "male div/sep           50\n",
       "Name: personal_status, dtype: int64"
      ]
     },
     "execution_count": 18,
     "metadata": {},
     "output_type": "execute_result"
    }
   ],
   "source": [
    "df['personal_status'].value_counts()"
   ]
  },
  {
   "cell_type": "code",
   "execution_count": 19,
   "id": "3de81246",
   "metadata": {},
   "outputs": [],
   "source": [
    "df['personal_status']=df['personal_status'].replace('male single',0)\n",
    "df.to_csv('data.csv', index=False)\n",
    "\n",
    "df['personal_status']=df['personal_status'].replace('female div/dep/mar',1)\n",
    "df.to_csv('data.csv', index=False)\n",
    "\n",
    "df['personal_status']=df['personal_status'].replace('male mar/wid',2)\n",
    "df.to_csv('data.csv', index=False)\n",
    "\n",
    "df['personal_status']=df['personal_status'].replace('male div/sep',3)\n",
    "df.to_csv('data.csv', index=False)"
   ]
  },
  {
   "cell_type": "code",
   "execution_count": 20,
   "id": "c295b9a3",
   "metadata": {},
   "outputs": [
    {
     "data": {
      "text/plain": [
       "none            907\n",
       "guarantor        52\n",
       "co applicant     41\n",
       "Name: other_parties, dtype: int64"
      ]
     },
     "execution_count": 20,
     "metadata": {},
     "output_type": "execute_result"
    }
   ],
   "source": [
    "df['other_parties'].value_counts()"
   ]
  },
  {
   "cell_type": "code",
   "execution_count": 21,
   "id": "bcd174f7",
   "metadata": {},
   "outputs": [],
   "source": [
    "df['other_parties']=df['other_parties'].replace('none',0)\n",
    "df.to_csv('data.csv', index=False)\n",
    "\n",
    "df['other_parties']=df['other_parties'].replace('guarantor',1)\n",
    "df.to_csv('data.csv', index=False)\n",
    "\n",
    "df['other_parties']=df['other_parties'].replace('co applicant',2)\n",
    "df.to_csv('data.csv', index=False)"
   ]
  },
  {
   "cell_type": "code",
   "execution_count": 22,
   "id": "f158ff3d",
   "metadata": {},
   "outputs": [
    {
     "data": {
      "text/plain": [
       "car                  332\n",
       "real estate          282\n",
       "life insurance       232\n",
       "no known property    154\n",
       "Name: property_magnitude, dtype: int64"
      ]
     },
     "execution_count": 22,
     "metadata": {},
     "output_type": "execute_result"
    }
   ],
   "source": [
    "df['property_magnitude'].value_counts()"
   ]
  },
  {
   "cell_type": "code",
   "execution_count": 23,
   "id": "47f7f448",
   "metadata": {},
   "outputs": [],
   "source": [
    "df['property_magnitude']=df['property_magnitude'].replace('car',0)\n",
    "df.to_csv('data.csv', index=False)\n",
    "\n",
    "df['property_magnitude']=df['property_magnitude'].replace('real estate',1)\n",
    "df.to_csv('data.csv', index=False)\n",
    "\n",
    "df['property_magnitude']=df['property_magnitude'].replace('life insurance',2)\n",
    "df.to_csv('data.csv', index=False)\n",
    "\n",
    "df['property_magnitude']=df['property_magnitude'].replace('no known property',3)\n",
    "df.to_csv('data.csv', index=False)"
   ]
  },
  {
   "cell_type": "code",
   "execution_count": 24,
   "id": "52619197",
   "metadata": {},
   "outputs": [
    {
     "data": {
      "text/plain": [
       "none      814\n",
       "bank      139\n",
       "stores     47\n",
       "Name: other_payment_plans, dtype: int64"
      ]
     },
     "execution_count": 24,
     "metadata": {},
     "output_type": "execute_result"
    }
   ],
   "source": [
    "df['other_payment_plans'].value_counts()"
   ]
  },
  {
   "cell_type": "code",
   "execution_count": 25,
   "id": "80e7ab6a",
   "metadata": {},
   "outputs": [],
   "source": [
    "df['other_payment_plans']=df['other_payment_plans'].replace('none',0)\n",
    "df.to_csv('data.csv', index=False)\n",
    "\n",
    "df['other_payment_plans']=df['other_payment_plans'].replace('bank',1)\n",
    "df.to_csv('data.csv', index=False)\n",
    "\n",
    "df['other_payment_plans']=df['other_payment_plans'].replace('stores',2)\n",
    "df.to_csv('data.csv', index=False)"
   ]
  },
  {
   "cell_type": "code",
   "execution_count": 26,
   "id": "dedcb078",
   "metadata": {},
   "outputs": [
    {
     "data": {
      "text/plain": [
       "own         713\n",
       "rent        179\n",
       "for free    108\n",
       "Name: housing, dtype: int64"
      ]
     },
     "execution_count": 26,
     "metadata": {},
     "output_type": "execute_result"
    }
   ],
   "source": [
    "df['housing'].value_counts()"
   ]
  },
  {
   "cell_type": "code",
   "execution_count": 27,
   "id": "2676494e",
   "metadata": {},
   "outputs": [],
   "source": [
    "df['housing']=df['housing'].replace('own',0)\n",
    "df.to_csv('data.csv', index=False)\n",
    "\n",
    "df['housing']=df['housing'].replace('rent',1)\n",
    "df.to_csv('data.csv', index=False)\n",
    "\n",
    "df['housing']=df['housing'].replace('for free',2)\n",
    "df.to_csv('data.csv', index=False)"
   ]
  },
  {
   "cell_type": "code",
   "execution_count": 28,
   "id": "7d63040b",
   "metadata": {},
   "outputs": [
    {
     "data": {
      "text/plain": [
       "skilled                      630\n",
       "unskilled resident           200\n",
       "high qualif/self emp/mgmt    148\n",
       "unemp/unskilled non res       22\n",
       "Name: job, dtype: int64"
      ]
     },
     "execution_count": 28,
     "metadata": {},
     "output_type": "execute_result"
    }
   ],
   "source": [
    "df['job'].value_counts()"
   ]
  },
  {
   "cell_type": "code",
   "execution_count": 29,
   "id": "0a922b79",
   "metadata": {},
   "outputs": [],
   "source": [
    "df['job']=df['job'].replace('skilled',0)\n",
    "df.to_csv('data.csv', index=False)\n",
    "\n",
    "df['job']=df['job'].replace('unskilled resident',1)\n",
    "df.to_csv('data.csv', index=False)\n",
    "\n",
    "df['job']=df['job'].replace('high qualif/self emp/mgmt',2)\n",
    "df.to_csv('data.csv', index=False)\n",
    "\n",
    "df['job']=df['job'].replace('unemp/unskilled non res',3)\n",
    "df.to_csv('data.csv', index=False)"
   ]
  },
  {
   "cell_type": "code",
   "execution_count": 30,
   "id": "e39a7b9a",
   "metadata": {},
   "outputs": [
    {
     "data": {
      "text/plain": [
       "none    596\n",
       "yes     404\n",
       "Name: own_telephone, dtype: int64"
      ]
     },
     "execution_count": 30,
     "metadata": {},
     "output_type": "execute_result"
    }
   ],
   "source": [
    "df['own_telephone'].value_counts()"
   ]
  },
  {
   "cell_type": "code",
   "execution_count": 31,
   "id": "ca6c1083",
   "metadata": {},
   "outputs": [],
   "source": [
    "df['own_telephone']=df['own_telephone'].replace('none',0)\n",
    "df.to_csv('data.csv', index=False)\n",
    "\n",
    "df['own_telephone']=df['own_telephone'].replace('yes',1)\n",
    "df.to_csv('data.csv', index=False)"
   ]
  },
  {
   "cell_type": "code",
   "execution_count": 32,
   "id": "2af013de",
   "metadata": {},
   "outputs": [
    {
     "data": {
      "text/plain": [
       "yes    963\n",
       "no      37\n",
       "Name: foreign_worker, dtype: int64"
      ]
     },
     "execution_count": 32,
     "metadata": {},
     "output_type": "execute_result"
    }
   ],
   "source": [
    "df['foreign_worker'].value_counts()"
   ]
  },
  {
   "cell_type": "code",
   "execution_count": 33,
   "id": "25cf7e34",
   "metadata": {},
   "outputs": [],
   "source": [
    "df['foreign_worker']=df['foreign_worker'].replace('yes',0)\n",
    "df.to_csv('data.csv', index=False)\n",
    "\n",
    "df['foreign_worker']=df['foreign_worker'].replace('no',1)\n",
    "df.to_csv('data.csv', index=False)"
   ]
  },
  {
   "cell_type": "code",
   "execution_count": null,
   "id": "54828a22",
   "metadata": {},
   "outputs": [],
   "source": []
  },
  {
   "cell_type": "markdown",
   "id": "f14838f4",
   "metadata": {},
   "source": [
    "### Result after changing the values into int/float "
   ]
  },
  {
   "cell_type": "code",
   "execution_count": 34,
   "id": "476bec8f",
   "metadata": {},
   "outputs": [
    {
     "data": {
      "text/html": [
       "<div>\n",
       "<style scoped>\n",
       "    .dataframe tbody tr th:only-of-type {\n",
       "        vertical-align: middle;\n",
       "    }\n",
       "\n",
       "    .dataframe tbody tr th {\n",
       "        vertical-align: top;\n",
       "    }\n",
       "\n",
       "    .dataframe thead th {\n",
       "        text-align: right;\n",
       "    }\n",
       "</style>\n",
       "<table border=\"1\" class=\"dataframe\">\n",
       "  <thead>\n",
       "    <tr style=\"text-align: right;\">\n",
       "      <th></th>\n",
       "      <th>Unnamed: 0</th>\n",
       "      <th>checking_status</th>\n",
       "      <th>duration</th>\n",
       "      <th>credit_history</th>\n",
       "      <th>purpose</th>\n",
       "      <th>credit_amount</th>\n",
       "      <th>savings_status</th>\n",
       "      <th>employment</th>\n",
       "      <th>installment_commitment</th>\n",
       "      <th>personal_status</th>\n",
       "      <th>...</th>\n",
       "      <th>property_magnitude</th>\n",
       "      <th>age</th>\n",
       "      <th>other_payment_plans</th>\n",
       "      <th>housing</th>\n",
       "      <th>existing_credits</th>\n",
       "      <th>job</th>\n",
       "      <th>num_dependents</th>\n",
       "      <th>own_telephone</th>\n",
       "      <th>foreign_worker</th>\n",
       "      <th>class</th>\n",
       "    </tr>\n",
       "  </thead>\n",
       "  <tbody>\n",
       "    <tr>\n",
       "      <th>0</th>\n",
       "      <td>0</td>\n",
       "      <td>1</td>\n",
       "      <td>6.0</td>\n",
       "      <td>1</td>\n",
       "      <td>0</td>\n",
       "      <td>1169.0</td>\n",
       "      <td>1</td>\n",
       "      <td>1</td>\n",
       "      <td>4.0</td>\n",
       "      <td>0</td>\n",
       "      <td>...</td>\n",
       "      <td>1</td>\n",
       "      <td>67.0</td>\n",
       "      <td>0</td>\n",
       "      <td>0</td>\n",
       "      <td>2.0</td>\n",
       "      <td>0</td>\n",
       "      <td>1.0</td>\n",
       "      <td>1</td>\n",
       "      <td>0</td>\n",
       "      <td>1</td>\n",
       "    </tr>\n",
       "    <tr>\n",
       "      <th>1</th>\n",
       "      <td>1</td>\n",
       "      <td>2</td>\n",
       "      <td>48.0</td>\n",
       "      <td>0</td>\n",
       "      <td>0</td>\n",
       "      <td>5951.0</td>\n",
       "      <td>0</td>\n",
       "      <td>0</td>\n",
       "      <td>2.0</td>\n",
       "      <td>1</td>\n",
       "      <td>...</td>\n",
       "      <td>1</td>\n",
       "      <td>22.0</td>\n",
       "      <td>0</td>\n",
       "      <td>0</td>\n",
       "      <td>1.0</td>\n",
       "      <td>0</td>\n",
       "      <td>1.0</td>\n",
       "      <td>0</td>\n",
       "      <td>0</td>\n",
       "      <td>0</td>\n",
       "    </tr>\n",
       "    <tr>\n",
       "      <th>2</th>\n",
       "      <td>2</td>\n",
       "      <td>0</td>\n",
       "      <td>12.0</td>\n",
       "      <td>1</td>\n",
       "      <td>5</td>\n",
       "      <td>2096.0</td>\n",
       "      <td>0</td>\n",
       "      <td>2</td>\n",
       "      <td>2.0</td>\n",
       "      <td>0</td>\n",
       "      <td>...</td>\n",
       "      <td>1</td>\n",
       "      <td>49.0</td>\n",
       "      <td>0</td>\n",
       "      <td>0</td>\n",
       "      <td>1.0</td>\n",
       "      <td>1</td>\n",
       "      <td>2.0</td>\n",
       "      <td>0</td>\n",
       "      <td>0</td>\n",
       "      <td>1</td>\n",
       "    </tr>\n",
       "    <tr>\n",
       "      <th>3</th>\n",
       "      <td>3</td>\n",
       "      <td>1</td>\n",
       "      <td>42.0</td>\n",
       "      <td>0</td>\n",
       "      <td>2</td>\n",
       "      <td>7882.0</td>\n",
       "      <td>0</td>\n",
       "      <td>2</td>\n",
       "      <td>2.0</td>\n",
       "      <td>0</td>\n",
       "      <td>...</td>\n",
       "      <td>2</td>\n",
       "      <td>45.0</td>\n",
       "      <td>0</td>\n",
       "      <td>2</td>\n",
       "      <td>1.0</td>\n",
       "      <td>0</td>\n",
       "      <td>2.0</td>\n",
       "      <td>0</td>\n",
       "      <td>0</td>\n",
       "      <td>1</td>\n",
       "    </tr>\n",
       "    <tr>\n",
       "      <th>4</th>\n",
       "      <td>4</td>\n",
       "      <td>1</td>\n",
       "      <td>24.0</td>\n",
       "      <td>2</td>\n",
       "      <td>1</td>\n",
       "      <td>4870.0</td>\n",
       "      <td>0</td>\n",
       "      <td>0</td>\n",
       "      <td>3.0</td>\n",
       "      <td>0</td>\n",
       "      <td>...</td>\n",
       "      <td>3</td>\n",
       "      <td>53.0</td>\n",
       "      <td>0</td>\n",
       "      <td>2</td>\n",
       "      <td>2.0</td>\n",
       "      <td>0</td>\n",
       "      <td>2.0</td>\n",
       "      <td>0</td>\n",
       "      <td>0</td>\n",
       "      <td>0</td>\n",
       "    </tr>\n",
       "  </tbody>\n",
       "</table>\n",
       "<p>5 rows × 22 columns</p>\n",
       "</div>"
      ],
      "text/plain": [
       "   Unnamed: 0  checking_status  duration  credit_history  purpose  \\\n",
       "0           0                1       6.0               1        0   \n",
       "1           1                2      48.0               0        0   \n",
       "2           2                0      12.0               1        5   \n",
       "3           3                1      42.0               0        2   \n",
       "4           4                1      24.0               2        1   \n",
       "\n",
       "   credit_amount  savings_status  employment  installment_commitment  \\\n",
       "0         1169.0               1           1                     4.0   \n",
       "1         5951.0               0           0                     2.0   \n",
       "2         2096.0               0           2                     2.0   \n",
       "3         7882.0               0           2                     2.0   \n",
       "4         4870.0               0           0                     3.0   \n",
       "\n",
       "   personal_status  ...  property_magnitude   age  other_payment_plans  \\\n",
       "0                0  ...                   1  67.0                    0   \n",
       "1                1  ...                   1  22.0                    0   \n",
       "2                0  ...                   1  49.0                    0   \n",
       "3                0  ...                   2  45.0                    0   \n",
       "4                0  ...                   3  53.0                    0   \n",
       "\n",
       "   housing  existing_credits  job  num_dependents  own_telephone  \\\n",
       "0        0               2.0    0             1.0              1   \n",
       "1        0               1.0    0             1.0              0   \n",
       "2        0               1.0    1             2.0              0   \n",
       "3        2               1.0    0             2.0              0   \n",
       "4        2               2.0    0             2.0              0   \n",
       "\n",
       "   foreign_worker  class  \n",
       "0               0      1  \n",
       "1               0      0  \n",
       "2               0      1  \n",
       "3               0      1  \n",
       "4               0      0  \n",
       "\n",
       "[5 rows x 22 columns]"
      ]
     },
     "execution_count": 34,
     "metadata": {},
     "output_type": "execute_result"
    }
   ],
   "source": [
    "df.head()"
   ]
  },
  {
   "cell_type": "code",
   "execution_count": null,
   "id": "fc7d0e25",
   "metadata": {},
   "outputs": [],
   "source": []
  },
  {
   "cell_type": "markdown",
   "id": "6829f7ca",
   "metadata": {},
   "source": [
    "### Checking null values, duplicated values and also value count for dependent variable"
   ]
  },
  {
   "cell_type": "code",
   "execution_count": 35,
   "id": "d9fcc3d1",
   "metadata": {},
   "outputs": [
    {
     "data": {
      "text/plain": [
       "(1000, 22)"
      ]
     },
     "execution_count": 35,
     "metadata": {},
     "output_type": "execute_result"
    }
   ],
   "source": [
    "df.shape"
   ]
  },
  {
   "cell_type": "code",
   "execution_count": 36,
   "id": "6b22f6c5",
   "metadata": {},
   "outputs": [
    {
     "data": {
      "text/plain": [
       "Unnamed: 0                0\n",
       "checking_status           0\n",
       "duration                  0\n",
       "credit_history            0\n",
       "purpose                   0\n",
       "credit_amount             0\n",
       "savings_status            0\n",
       "employment                0\n",
       "installment_commitment    0\n",
       "personal_status           0\n",
       "other_parties             0\n",
       "residence_since           0\n",
       "property_magnitude        0\n",
       "age                       0\n",
       "other_payment_plans       0\n",
       "housing                   0\n",
       "existing_credits          0\n",
       "job                       0\n",
       "num_dependents            0\n",
       "own_telephone             0\n",
       "foreign_worker            0\n",
       "class                     0\n",
       "dtype: int64"
      ]
     },
     "execution_count": 36,
     "metadata": {},
     "output_type": "execute_result"
    }
   ],
   "source": [
    "df.isnull().sum()"
   ]
  },
  {
   "cell_type": "code",
   "execution_count": 37,
   "id": "39e36dcd",
   "metadata": {},
   "outputs": [
    {
     "data": {
      "text/plain": [
       "0"
      ]
     },
     "execution_count": 37,
     "metadata": {},
     "output_type": "execute_result"
    }
   ],
   "source": [
    "df.duplicated().sum()"
   ]
  },
  {
   "cell_type": "code",
   "execution_count": 38,
   "id": "e206e659",
   "metadata": {},
   "outputs": [
    {
     "data": {
      "text/plain": [
       "1    700\n",
       "0    300\n",
       "Name: class, dtype: int64"
      ]
     },
     "execution_count": 38,
     "metadata": {},
     "output_type": "execute_result"
    }
   ],
   "source": [
    "df['class'].value_counts() "
   ]
  },
  {
   "cell_type": "code",
   "execution_count": null,
   "id": "28f4b18a",
   "metadata": {},
   "outputs": [],
   "source": []
  },
  {
   "cell_type": "markdown",
   "id": "a8e58ce3",
   "metadata": {},
   "source": [
    "### Initialising the value of dependent variable (y) and independent variable (x)"
   ]
  },
  {
   "cell_type": "code",
   "execution_count": 40,
   "id": "2062f1d0",
   "metadata": {},
   "outputs": [
    {
     "name": "stdout",
     "output_type": "stream",
     "text": [
      "(1000, 20)\n",
      "(1000,)\n"
     ]
    }
   ],
   "source": [
    "y= df['class']\n",
    "x= df.drop('class', axis=1)\n",
    "x= x.drop('Unnamed: 0', axis=1)\n",
    "\n",
    "print(x.shape)\n",
    "print(y.shape)"
   ]
  },
  {
   "cell_type": "code",
   "execution_count": 41,
   "id": "98620697",
   "metadata": {},
   "outputs": [
    {
     "data": {
      "text/plain": [
       "0    1\n",
       "1    0\n",
       "2    1\n",
       "3    1\n",
       "4    0\n",
       "Name: class, dtype: int64"
      ]
     },
     "execution_count": 41,
     "metadata": {},
     "output_type": "execute_result"
    }
   ],
   "source": [
    "y.head()"
   ]
  },
  {
   "cell_type": "code",
   "execution_count": null,
   "id": "857f321f",
   "metadata": {},
   "outputs": [],
   "source": []
  },
  {
   "cell_type": "markdown",
   "id": "baff5f0f",
   "metadata": {},
   "source": [
    "### Using train_test_split "
   ]
  },
  {
   "cell_type": "code",
   "execution_count": 42,
   "id": "e04c0c50",
   "metadata": {},
   "outputs": [],
   "source": [
    "from sklearn.model_selection import train_test_split"
   ]
  },
  {
   "cell_type": "code",
   "execution_count": 43,
   "id": "a95a6698",
   "metadata": {},
   "outputs": [
    {
     "name": "stdout",
     "output_type": "stream",
     "text": [
      "(750, 20)\n",
      "(250, 20)\n",
      "(750,)\n",
      "(250,)\n"
     ]
    }
   ],
   "source": [
    "x_train,x_test,y_train,y_test = train_test_split(x,y,test_size=0.25,random_state=42)\n",
    "print(x_train.shape)\n",
    "print(x_test.shape)\n",
    "print(y_train.shape)\n",
    "print(y_test.shape)"
   ]
  },
  {
   "cell_type": "code",
   "execution_count": null,
   "id": "14f7e8ad",
   "metadata": {},
   "outputs": [],
   "source": []
  },
  {
   "cell_type": "markdown",
   "id": "063ccc28",
   "metadata": {},
   "source": [
    "### Now computing accuracy, mscore by different model"
   ]
  },
  {
   "cell_type": "markdown",
   "id": "b369417f",
   "metadata": {},
   "source": [
    "###### 1) Logistic Regression "
   ]
  },
  {
   "cell_type": "code",
   "execution_count": 44,
   "id": "b0f8c537",
   "metadata": {},
   "outputs": [],
   "source": [
    "from sklearn.linear_model import LogisticRegression"
   ]
  },
  {
   "cell_type": "code",
   "execution_count": 45,
   "id": "b608d4c9",
   "metadata": {},
   "outputs": [
    {
     "data": {
      "text/html": [
       "<style>#sk-container-id-1 {color: black;background-color: white;}#sk-container-id-1 pre{padding: 0;}#sk-container-id-1 div.sk-toggleable {background-color: white;}#sk-container-id-1 label.sk-toggleable__label {cursor: pointer;display: block;width: 100%;margin-bottom: 0;padding: 0.3em;box-sizing: border-box;text-align: center;}#sk-container-id-1 label.sk-toggleable__label-arrow:before {content: \"▸\";float: left;margin-right: 0.25em;color: #696969;}#sk-container-id-1 label.sk-toggleable__label-arrow:hover:before {color: black;}#sk-container-id-1 div.sk-estimator:hover label.sk-toggleable__label-arrow:before {color: black;}#sk-container-id-1 div.sk-toggleable__content {max-height: 0;max-width: 0;overflow: hidden;text-align: left;background-color: #f0f8ff;}#sk-container-id-1 div.sk-toggleable__content pre {margin: 0.2em;color: black;border-radius: 0.25em;background-color: #f0f8ff;}#sk-container-id-1 input.sk-toggleable__control:checked~div.sk-toggleable__content {max-height: 200px;max-width: 100%;overflow: auto;}#sk-container-id-1 input.sk-toggleable__control:checked~label.sk-toggleable__label-arrow:before {content: \"▾\";}#sk-container-id-1 div.sk-estimator input.sk-toggleable__control:checked~label.sk-toggleable__label {background-color: #d4ebff;}#sk-container-id-1 div.sk-label input.sk-toggleable__control:checked~label.sk-toggleable__label {background-color: #d4ebff;}#sk-container-id-1 input.sk-hidden--visually {border: 0;clip: rect(1px 1px 1px 1px);clip: rect(1px, 1px, 1px, 1px);height: 1px;margin: -1px;overflow: hidden;padding: 0;position: absolute;width: 1px;}#sk-container-id-1 div.sk-estimator {font-family: monospace;background-color: #f0f8ff;border: 1px dotted black;border-radius: 0.25em;box-sizing: border-box;margin-bottom: 0.5em;}#sk-container-id-1 div.sk-estimator:hover {background-color: #d4ebff;}#sk-container-id-1 div.sk-parallel-item::after {content: \"\";width: 100%;border-bottom: 1px solid gray;flex-grow: 1;}#sk-container-id-1 div.sk-label:hover label.sk-toggleable__label {background-color: #d4ebff;}#sk-container-id-1 div.sk-serial::before {content: \"\";position: absolute;border-left: 1px solid gray;box-sizing: border-box;top: 0;bottom: 0;left: 50%;z-index: 0;}#sk-container-id-1 div.sk-serial {display: flex;flex-direction: column;align-items: center;background-color: white;padding-right: 0.2em;padding-left: 0.2em;position: relative;}#sk-container-id-1 div.sk-item {position: relative;z-index: 1;}#sk-container-id-1 div.sk-parallel {display: flex;align-items: stretch;justify-content: center;background-color: white;position: relative;}#sk-container-id-1 div.sk-item::before, #sk-container-id-1 div.sk-parallel-item::before {content: \"\";position: absolute;border-left: 1px solid gray;box-sizing: border-box;top: 0;bottom: 0;left: 50%;z-index: -1;}#sk-container-id-1 div.sk-parallel-item {display: flex;flex-direction: column;z-index: 1;position: relative;background-color: white;}#sk-container-id-1 div.sk-parallel-item:first-child::after {align-self: flex-end;width: 50%;}#sk-container-id-1 div.sk-parallel-item:last-child::after {align-self: flex-start;width: 50%;}#sk-container-id-1 div.sk-parallel-item:only-child::after {width: 0;}#sk-container-id-1 div.sk-dashed-wrapped {border: 1px dashed gray;margin: 0 0.4em 0.5em 0.4em;box-sizing: border-box;padding-bottom: 0.4em;background-color: white;}#sk-container-id-1 div.sk-label label {font-family: monospace;font-weight: bold;display: inline-block;line-height: 1.2em;}#sk-container-id-1 div.sk-label-container {text-align: center;}#sk-container-id-1 div.sk-container {/* jupyter's `normalize.less` sets `[hidden] { display: none; }` but bootstrap.min.css set `[hidden] { display: none !important; }` so we also need the `!important` here to be able to override the default hidden behavior on the sphinx rendered scikit-learn.org. See: https://github.com/scikit-learn/scikit-learn/issues/21755 */display: inline-block !important;position: relative;}#sk-container-id-1 div.sk-text-repr-fallback {display: none;}</style><div id=\"sk-container-id-1\" class=\"sk-top-container\"><div class=\"sk-text-repr-fallback\"><pre>LogisticRegression(max_iter=1000)</pre><b>In a Jupyter environment, please rerun this cell to show the HTML representation or trust the notebook. <br />On GitHub, the HTML representation is unable to render, please try loading this page with nbviewer.org.</b></div><div class=\"sk-container\" hidden><div class=\"sk-item\"><div class=\"sk-estimator sk-toggleable\"><input class=\"sk-toggleable__control sk-hidden--visually\" id=\"sk-estimator-id-1\" type=\"checkbox\" checked><label for=\"sk-estimator-id-1\" class=\"sk-toggleable__label sk-toggleable__label-arrow\">LogisticRegression</label><div class=\"sk-toggleable__content\"><pre>LogisticRegression(max_iter=1000)</pre></div></div></div></div></div>"
      ],
      "text/plain": [
       "LogisticRegression(max_iter=1000)"
      ]
     },
     "execution_count": 45,
     "metadata": {},
     "output_type": "execute_result"
    }
   ],
   "source": [
    "m1 = LogisticRegression(max_iter=1000)\n",
    "m1.fit(x_train,y_train)"
   ]
  },
  {
   "cell_type": "code",
   "execution_count": 46,
   "id": "4abb7387",
   "metadata": {},
   "outputs": [],
   "source": [
    "def eval_model(ytest,ypred):\n",
    " cm = confusion_matrix(ytest,ypred)\n",
    " print(cm)\n",
    " print(classification_report(ytest,ypred))\n",
    " \n",
    "def mscore(model):\n",
    " print('Train Score',model.score(x_train,y_train))\n",
    " print('Test Score',model.score(x_test,y_test))"
   ]
  },
  {
   "cell_type": "code",
   "execution_count": 47,
   "id": "3454627b",
   "metadata": {},
   "outputs": [
    {
     "name": "stdout",
     "output_type": "stream",
     "text": [
      "Train Score 0.7253333333333334\n",
      "Test Score 0.7\n"
     ]
    }
   ],
   "source": [
    "mscore(m1)"
   ]
  },
  {
   "cell_type": "code",
   "execution_count": 48,
   "id": "fbb179f9",
   "metadata": {},
   "outputs": [],
   "source": [
    "from sklearn.metrics import confusion_matrix, classification_report"
   ]
  },
  {
   "cell_type": "code",
   "execution_count": 49,
   "id": "e4cec20a",
   "metadata": {},
   "outputs": [
    {
     "name": "stdout",
     "output_type": "stream",
     "text": [
      "[[ 23  49]\n",
      " [ 26 152]]\n",
      "              precision    recall  f1-score   support\n",
      "\n",
      "           0       0.47      0.32      0.38        72\n",
      "           1       0.76      0.85      0.80       178\n",
      "\n",
      "    accuracy                           0.70       250\n",
      "   macro avg       0.61      0.59      0.59       250\n",
      "weighted avg       0.67      0.70      0.68       250\n",
      "\n"
     ]
    }
   ],
   "source": [
    "ypred_m1 = m1.predict(x_test)\n",
    "eval_model(y_test,ypred_m1) #more accurate than KNN but less then SVM"
   ]
  },
  {
   "cell_type": "code",
   "execution_count": 51,
   "id": "be9a6e8e",
   "metadata": {},
   "outputs": [
    {
     "name": "stdout",
     "output_type": "stream",
     "text": [
      "[0]\n"
     ]
    },
    {
     "name": "stderr",
     "output_type": "stream",
     "text": [
      "C:\\Users\\HP\\anaconda3\\anacondav3\\lib\\site-packages\\sklearn\\base.py:420: UserWarning: X does not have valid feature names, but LogisticRegression was fitted with feature names\n",
      "  warnings.warn(\n"
     ]
    }
   ],
   "source": [
    "# trying now with logistic regression\n",
    "\n",
    "ypred_log = m1.predict([[1, 49.0, 0, 0, 5951, 1, 1, 3, 0, 0, 4, 1, 20, 0, 0, 1, 1, 0, 0, 0]])\n",
    "print(ypred_log) "
   ]
  },
  {
   "cell_type": "markdown",
   "id": "3506a773",
   "metadata": {},
   "source": [
    "###### 2) KNN "
   ]
  },
  {
   "cell_type": "code",
   "execution_count": 52,
   "id": "b5ff94fe",
   "metadata": {},
   "outputs": [],
   "source": [
    "from sklearn.neighbors import KNeighborsClassifier"
   ]
  },
  {
   "cell_type": "code",
   "execution_count": 53,
   "id": "ef094119",
   "metadata": {},
   "outputs": [
    {
     "data": {
      "text/html": [
       "<style>#sk-container-id-2 {color: black;background-color: white;}#sk-container-id-2 pre{padding: 0;}#sk-container-id-2 div.sk-toggleable {background-color: white;}#sk-container-id-2 label.sk-toggleable__label {cursor: pointer;display: block;width: 100%;margin-bottom: 0;padding: 0.3em;box-sizing: border-box;text-align: center;}#sk-container-id-2 label.sk-toggleable__label-arrow:before {content: \"▸\";float: left;margin-right: 0.25em;color: #696969;}#sk-container-id-2 label.sk-toggleable__label-arrow:hover:before {color: black;}#sk-container-id-2 div.sk-estimator:hover label.sk-toggleable__label-arrow:before {color: black;}#sk-container-id-2 div.sk-toggleable__content {max-height: 0;max-width: 0;overflow: hidden;text-align: left;background-color: #f0f8ff;}#sk-container-id-2 div.sk-toggleable__content pre {margin: 0.2em;color: black;border-radius: 0.25em;background-color: #f0f8ff;}#sk-container-id-2 input.sk-toggleable__control:checked~div.sk-toggleable__content {max-height: 200px;max-width: 100%;overflow: auto;}#sk-container-id-2 input.sk-toggleable__control:checked~label.sk-toggleable__label-arrow:before {content: \"▾\";}#sk-container-id-2 div.sk-estimator input.sk-toggleable__control:checked~label.sk-toggleable__label {background-color: #d4ebff;}#sk-container-id-2 div.sk-label input.sk-toggleable__control:checked~label.sk-toggleable__label {background-color: #d4ebff;}#sk-container-id-2 input.sk-hidden--visually {border: 0;clip: rect(1px 1px 1px 1px);clip: rect(1px, 1px, 1px, 1px);height: 1px;margin: -1px;overflow: hidden;padding: 0;position: absolute;width: 1px;}#sk-container-id-2 div.sk-estimator {font-family: monospace;background-color: #f0f8ff;border: 1px dotted black;border-radius: 0.25em;box-sizing: border-box;margin-bottom: 0.5em;}#sk-container-id-2 div.sk-estimator:hover {background-color: #d4ebff;}#sk-container-id-2 div.sk-parallel-item::after {content: \"\";width: 100%;border-bottom: 1px solid gray;flex-grow: 1;}#sk-container-id-2 div.sk-label:hover label.sk-toggleable__label {background-color: #d4ebff;}#sk-container-id-2 div.sk-serial::before {content: \"\";position: absolute;border-left: 1px solid gray;box-sizing: border-box;top: 0;bottom: 0;left: 50%;z-index: 0;}#sk-container-id-2 div.sk-serial {display: flex;flex-direction: column;align-items: center;background-color: white;padding-right: 0.2em;padding-left: 0.2em;position: relative;}#sk-container-id-2 div.sk-item {position: relative;z-index: 1;}#sk-container-id-2 div.sk-parallel {display: flex;align-items: stretch;justify-content: center;background-color: white;position: relative;}#sk-container-id-2 div.sk-item::before, #sk-container-id-2 div.sk-parallel-item::before {content: \"\";position: absolute;border-left: 1px solid gray;box-sizing: border-box;top: 0;bottom: 0;left: 50%;z-index: -1;}#sk-container-id-2 div.sk-parallel-item {display: flex;flex-direction: column;z-index: 1;position: relative;background-color: white;}#sk-container-id-2 div.sk-parallel-item:first-child::after {align-self: flex-end;width: 50%;}#sk-container-id-2 div.sk-parallel-item:last-child::after {align-self: flex-start;width: 50%;}#sk-container-id-2 div.sk-parallel-item:only-child::after {width: 0;}#sk-container-id-2 div.sk-dashed-wrapped {border: 1px dashed gray;margin: 0 0.4em 0.5em 0.4em;box-sizing: border-box;padding-bottom: 0.4em;background-color: white;}#sk-container-id-2 div.sk-label label {font-family: monospace;font-weight: bold;display: inline-block;line-height: 1.2em;}#sk-container-id-2 div.sk-label-container {text-align: center;}#sk-container-id-2 div.sk-container {/* jupyter's `normalize.less` sets `[hidden] { display: none; }` but bootstrap.min.css set `[hidden] { display: none !important; }` so we also need the `!important` here to be able to override the default hidden behavior on the sphinx rendered scikit-learn.org. See: https://github.com/scikit-learn/scikit-learn/issues/21755 */display: inline-block !important;position: relative;}#sk-container-id-2 div.sk-text-repr-fallback {display: none;}</style><div id=\"sk-container-id-2\" class=\"sk-top-container\"><div class=\"sk-text-repr-fallback\"><pre>KNeighborsClassifier(n_neighbors=15)</pre><b>In a Jupyter environment, please rerun this cell to show the HTML representation or trust the notebook. <br />On GitHub, the HTML representation is unable to render, please try loading this page with nbviewer.org.</b></div><div class=\"sk-container\" hidden><div class=\"sk-item\"><div class=\"sk-estimator sk-toggleable\"><input class=\"sk-toggleable__control sk-hidden--visually\" id=\"sk-estimator-id-2\" type=\"checkbox\" checked><label for=\"sk-estimator-id-2\" class=\"sk-toggleable__label sk-toggleable__label-arrow\">KNeighborsClassifier</label><div class=\"sk-toggleable__content\"><pre>KNeighborsClassifier(n_neighbors=15)</pre></div></div></div></div></div>"
      ],
      "text/plain": [
       "KNeighborsClassifier(n_neighbors=15)"
      ]
     },
     "execution_count": 53,
     "metadata": {},
     "output_type": "execute_result"
    }
   ],
   "source": [
    "m2 = KNeighborsClassifier(n_neighbors=15)\n",
    "m2.fit(x_train,y_train)"
   ]
  },
  {
   "cell_type": "code",
   "execution_count": 54,
   "id": "dbb04d65",
   "metadata": {},
   "outputs": [
    {
     "name": "stdout",
     "output_type": "stream",
     "text": [
      "Train Score 0.7213333333333334\n",
      "Test Score 0.688\n"
     ]
    }
   ],
   "source": [
    "mscore(m2)"
   ]
  },
  {
   "cell_type": "code",
   "execution_count": 68,
   "id": "c17cd279",
   "metadata": {},
   "outputs": [
    {
     "name": "stdout",
     "output_type": "stream",
     "text": [
      "[[ 10  62]\n",
      " [ 16 162]]\n",
      "              precision    recall  f1-score   support\n",
      "\n",
      "           0       0.38      0.14      0.20        72\n",
      "           1       0.72      0.91      0.81       178\n",
      "\n",
      "    accuracy                           0.69       250\n",
      "   macro avg       0.55      0.52      0.51       250\n",
      "weighted avg       0.63      0.69      0.63       250\n",
      "\n"
     ]
    }
   ],
   "source": [
    "ypred_m2 = m2.predict(x_test)\n",
    "eval_model(y_test,ypred_m2) #worst accuracy so we not use this!"
   ]
  },
  {
   "cell_type": "markdown",
   "id": "eba8f614",
   "metadata": {},
   "source": [
    "###### 3) SVM "
   ]
  },
  {
   "cell_type": "code",
   "execution_count": 56,
   "id": "9bfd5c17",
   "metadata": {},
   "outputs": [],
   "source": [
    "from sklearn.svm import SVC"
   ]
  },
  {
   "cell_type": "code",
   "execution_count": 57,
   "id": "c4698ae4",
   "metadata": {},
   "outputs": [
    {
     "data": {
      "text/html": [
       "<style>#sk-container-id-3 {color: black;background-color: white;}#sk-container-id-3 pre{padding: 0;}#sk-container-id-3 div.sk-toggleable {background-color: white;}#sk-container-id-3 label.sk-toggleable__label {cursor: pointer;display: block;width: 100%;margin-bottom: 0;padding: 0.3em;box-sizing: border-box;text-align: center;}#sk-container-id-3 label.sk-toggleable__label-arrow:before {content: \"▸\";float: left;margin-right: 0.25em;color: #696969;}#sk-container-id-3 label.sk-toggleable__label-arrow:hover:before {color: black;}#sk-container-id-3 div.sk-estimator:hover label.sk-toggleable__label-arrow:before {color: black;}#sk-container-id-3 div.sk-toggleable__content {max-height: 0;max-width: 0;overflow: hidden;text-align: left;background-color: #f0f8ff;}#sk-container-id-3 div.sk-toggleable__content pre {margin: 0.2em;color: black;border-radius: 0.25em;background-color: #f0f8ff;}#sk-container-id-3 input.sk-toggleable__control:checked~div.sk-toggleable__content {max-height: 200px;max-width: 100%;overflow: auto;}#sk-container-id-3 input.sk-toggleable__control:checked~label.sk-toggleable__label-arrow:before {content: \"▾\";}#sk-container-id-3 div.sk-estimator input.sk-toggleable__control:checked~label.sk-toggleable__label {background-color: #d4ebff;}#sk-container-id-3 div.sk-label input.sk-toggleable__control:checked~label.sk-toggleable__label {background-color: #d4ebff;}#sk-container-id-3 input.sk-hidden--visually {border: 0;clip: rect(1px 1px 1px 1px);clip: rect(1px, 1px, 1px, 1px);height: 1px;margin: -1px;overflow: hidden;padding: 0;position: absolute;width: 1px;}#sk-container-id-3 div.sk-estimator {font-family: monospace;background-color: #f0f8ff;border: 1px dotted black;border-radius: 0.25em;box-sizing: border-box;margin-bottom: 0.5em;}#sk-container-id-3 div.sk-estimator:hover {background-color: #d4ebff;}#sk-container-id-3 div.sk-parallel-item::after {content: \"\";width: 100%;border-bottom: 1px solid gray;flex-grow: 1;}#sk-container-id-3 div.sk-label:hover label.sk-toggleable__label {background-color: #d4ebff;}#sk-container-id-3 div.sk-serial::before {content: \"\";position: absolute;border-left: 1px solid gray;box-sizing: border-box;top: 0;bottom: 0;left: 50%;z-index: 0;}#sk-container-id-3 div.sk-serial {display: flex;flex-direction: column;align-items: center;background-color: white;padding-right: 0.2em;padding-left: 0.2em;position: relative;}#sk-container-id-3 div.sk-item {position: relative;z-index: 1;}#sk-container-id-3 div.sk-parallel {display: flex;align-items: stretch;justify-content: center;background-color: white;position: relative;}#sk-container-id-3 div.sk-item::before, #sk-container-id-3 div.sk-parallel-item::before {content: \"\";position: absolute;border-left: 1px solid gray;box-sizing: border-box;top: 0;bottom: 0;left: 50%;z-index: -1;}#sk-container-id-3 div.sk-parallel-item {display: flex;flex-direction: column;z-index: 1;position: relative;background-color: white;}#sk-container-id-3 div.sk-parallel-item:first-child::after {align-self: flex-end;width: 50%;}#sk-container-id-3 div.sk-parallel-item:last-child::after {align-self: flex-start;width: 50%;}#sk-container-id-3 div.sk-parallel-item:only-child::after {width: 0;}#sk-container-id-3 div.sk-dashed-wrapped {border: 1px dashed gray;margin: 0 0.4em 0.5em 0.4em;box-sizing: border-box;padding-bottom: 0.4em;background-color: white;}#sk-container-id-3 div.sk-label label {font-family: monospace;font-weight: bold;display: inline-block;line-height: 1.2em;}#sk-container-id-3 div.sk-label-container {text-align: center;}#sk-container-id-3 div.sk-container {/* jupyter's `normalize.less` sets `[hidden] { display: none; }` but bootstrap.min.css set `[hidden] { display: none !important; }` so we also need the `!important` here to be able to override the default hidden behavior on the sphinx rendered scikit-learn.org. See: https://github.com/scikit-learn/scikit-learn/issues/21755 */display: inline-block !important;position: relative;}#sk-container-id-3 div.sk-text-repr-fallback {display: none;}</style><div id=\"sk-container-id-3\" class=\"sk-top-container\"><div class=\"sk-text-repr-fallback\"><pre>SVC(C=10, kernel=&#x27;linear&#x27;)</pre><b>In a Jupyter environment, please rerun this cell to show the HTML representation or trust the notebook. <br />On GitHub, the HTML representation is unable to render, please try loading this page with nbviewer.org.</b></div><div class=\"sk-container\" hidden><div class=\"sk-item\"><div class=\"sk-estimator sk-toggleable\"><input class=\"sk-toggleable__control sk-hidden--visually\" id=\"sk-estimator-id-3\" type=\"checkbox\" checked><label for=\"sk-estimator-id-3\" class=\"sk-toggleable__label sk-toggleable__label-arrow\">SVC</label><div class=\"sk-toggleable__content\"><pre>SVC(C=10, kernel=&#x27;linear&#x27;)</pre></div></div></div></div></div>"
      ],
      "text/plain": [
       "SVC(C=10, kernel='linear')"
      ]
     },
     "execution_count": 57,
     "metadata": {},
     "output_type": "execute_result"
    }
   ],
   "source": [
    "m3 = SVC(kernel='linear',C=10)\n",
    "m3.fit(x_train,y_train)"
   ]
  },
  {
   "cell_type": "code",
   "execution_count": 58,
   "id": "25ba3e65",
   "metadata": {},
   "outputs": [
    {
     "name": "stdout",
     "output_type": "stream",
     "text": [
      "Train Score 0.712\n",
      "Test Score 0.72\n"
     ]
    }
   ],
   "source": [
    "mscore(m3)"
   ]
  },
  {
   "cell_type": "code",
   "execution_count": 59,
   "id": "5a24ae88",
   "metadata": {},
   "outputs": [
    {
     "name": "stdout",
     "output_type": "stream",
     "text": [
      "[[ 36  36]\n",
      " [ 34 144]]\n",
      "              precision    recall  f1-score   support\n",
      "\n",
      "           0       0.51      0.50      0.51        72\n",
      "           1       0.80      0.81      0.80       178\n",
      "\n",
      "    accuracy                           0.72       250\n",
      "   macro avg       0.66      0.65      0.66       250\n",
      "weighted avg       0.72      0.72      0.72       250\n",
      "\n"
     ]
    }
   ],
   "source": [
    "ypred_m3 = m3.predict(x_test)\n",
    "eval_model(y_test,ypred_m3) #SVM model got the best accuracy"
   ]
  },
  {
   "cell_type": "code",
   "execution_count": 60,
   "id": "493c503e",
   "metadata": {},
   "outputs": [
    {
     "name": "stdout",
     "output_type": "stream",
     "text": [
      "[0]\n"
     ]
    },
    {
     "name": "stderr",
     "output_type": "stream",
     "text": [
      "C:\\Users\\HP\\anaconda3\\anacondav3\\lib\\site-packages\\sklearn\\base.py:420: UserWarning: X does not have valid feature names, but SVC was fitted with feature names\n",
      "  warnings.warn(\n"
     ]
    }
   ],
   "source": [
    "# trying with SVM Model\n",
    "ypred_svm = m3.predict([[1, 49.0, 0, 0, 5951, 1, 1, 3, 0, 0, 4, 1, 20, 0, 0, 1, 1, 0, 0, 0]])\n",
    "print(ypred_svm) "
   ]
  },
  {
   "cell_type": "code",
   "execution_count": null,
   "id": "cfffbc2b",
   "metadata": {},
   "outputs": [],
   "source": []
  },
  {
   "cell_type": "markdown",
   "id": "e563b159",
   "metadata": {},
   "source": [
    "## Conclusion"
   ]
  },
  {
   "cell_type": "raw",
   "id": "03568297",
   "metadata": {},
   "source": [
    "Columns names with there values in string and integer\n",
    "\n",
    "For Column= checking_status\n",
    "no checking    0\n",
    "<0             1\n",
    "0<=X<200       2\n",
    ">=200          3\n",
    "\n",
    "For Column= credit_history\n",
    "existing paid                     0\n",
    "critical/other existing credit    1\n",
    "delayed previously                2\n",
    "all paid                          3\n",
    "no credits/all paid               4\n",
    "\n",
    "For Column= purpose\n",
    "radio/tv               0\n",
    "new car                1\n",
    "furniture/equipment    2\n",
    "used car               3\n",
    "business               4\n",
    "education              5\n",
    "repairs                6\n",
    "domestic appliance     7\n",
    "other                  8\n",
    "retraining             9\n",
    "\n",
    "For Column= savings_status\n",
    "<100                0\n",
    "no known savings    1\n",
    "100<=X<500          2\n",
    "500<=X<1000         3\n",
    ">=1000              4\n",
    "\n",
    "For Column= employment\n",
    "1<=X<4        0\n",
    ">=7           1\n",
    "4<=X<7        2\n",
    "<1            3\n",
    "unemployed    4\n",
    "\n",
    "For Column= personal_status\n",
    "male single           0\n",
    "female div/dep/mar    1\n",
    "male mar/wid          2\n",
    "male div/sep          3\n",
    "\n",
    "For Column= other_parties\n",
    "none            0\n",
    "guarantor       1\n",
    "co applicant    2\n",
    "\n",
    "For Column= property_magnitude\n",
    "car                  0\n",
    "real estate          1\n",
    "life insurance       2\n",
    "no known property    3\n",
    "\n",
    "For Column= other_payment_plans\n",
    "none      0\n",
    "bank      1\n",
    "stores    2\n",
    "\n",
    "For Column= housing\n",
    "own         0\n",
    "rent        1\n",
    "for free    2\n",
    "\n",
    "For Column= job\n",
    "skilled                      0\n",
    "unskilled resident           1\n",
    "high qualif/self emp/mgmt    2\n",
    "unemp/unskilled non res      3\n",
    "\n",
    "For Column= own_telephone\n",
    "none    0\n",
    "yes     1\n",
    "\n",
    "For Column= foreign_worker\n",
    "yes    0\n",
    "no     1"
   ]
  },
  {
   "cell_type": "raw",
   "id": "ad6dad10",
   "metadata": {},
   "source": [
    "AS PER ACCURACY\n",
    "SVM > Logistic Regression > KNN\n",
    "KNN has the worst accuracy so we don't use this"
   ]
  },
  {
   "cell_type": "code",
   "execution_count": 64,
   "id": "6fa79dd4",
   "metadata": {},
   "outputs": [],
   "source": [
    "def credit_score(value):\n",
    "    if value == 1:\n",
    "        print(\"Credit score is GOOD\")\n",
    "    elif value == 0:\n",
    "        print(\"Credit score is BAD\")"
   ]
  },
  {
   "cell_type": "code",
   "execution_count": 65,
   "id": "d7e467af",
   "metadata": {},
   "outputs": [
    {
     "name": "stdout",
     "output_type": "stream",
     "text": [
      "[0]\n",
      "Credit score is BAD\n"
     ]
    },
    {
     "name": "stderr",
     "output_type": "stream",
     "text": [
      "C:\\Users\\HP\\anaconda3\\anacondav3\\lib\\site-packages\\sklearn\\base.py:420: UserWarning: X does not have valid feature names, but LogisticRegression was fitted with feature names\n",
      "  warnings.warn(\n"
     ]
    }
   ],
   "source": [
    "# Result with logistic regression\n",
    "\n",
    "ypred_logistic_regression = m1.predict([[1, 49.0, 0, 0, 5951, 1, 1, 3, 0, 0, 4, 1, 20, 0, 0, 1, 1, 0, 0, 0]])\n",
    "print(ypred_logistic_regression)\n",
    "credit_score(ypred_logistic_regression)"
   ]
  },
  {
   "cell_type": "code",
   "execution_count": 67,
   "id": "edeff742",
   "metadata": {},
   "outputs": [
    {
     "name": "stdout",
     "output_type": "stream",
     "text": [
      "[0]\n",
      "Credit score is BAD\n"
     ]
    },
    {
     "name": "stderr",
     "output_type": "stream",
     "text": [
      "C:\\Users\\HP\\anaconda3\\anacondav3\\lib\\site-packages\\sklearn\\base.py:420: UserWarning: X does not have valid feature names, but SVC was fitted with feature names\n",
      "  warnings.warn(\n"
     ]
    }
   ],
   "source": [
    "# Result with SVM which has the best accuracy \n",
    "\n",
    "ypred_SVM = m3.predict([[1, 49.0, 0, 0, 5951, 1, 1, 3, 0, 0, 4, 1, 20, 0, 0, 1, 1, 0, 0, 0]])\n",
    "print(ypred_SVM)\n",
    "credit_score(ypred_SVM)"
   ]
  },
  {
   "cell_type": "markdown",
   "id": "8d9b2047",
   "metadata": {},
   "source": [
    "# END - Thank You "
   ]
  }
 ],
 "metadata": {
  "kernelspec": {
   "display_name": "Python 3 (ipykernel)",
   "language": "python",
   "name": "python3"
  },
  "language_info": {
   "codemirror_mode": {
    "name": "ipython",
    "version": 3
   },
   "file_extension": ".py",
   "mimetype": "text/x-python",
   "name": "python",
   "nbconvert_exporter": "python",
   "pygments_lexer": "ipython3",
   "version": "3.10.9"
  }
 },
 "nbformat": 4,
 "nbformat_minor": 5
}
